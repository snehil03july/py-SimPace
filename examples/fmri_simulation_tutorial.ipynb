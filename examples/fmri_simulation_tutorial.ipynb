{
 "cells": [
  {
   "cell_type": "markdown",
   "id": "2dfb4825-7cab-45b8-8486-76afaa6becf2",
   "metadata": {},
   "source": [
    "\n",
    "---\n",
    "\n",
    "---\n",
    "\n",
    "# examples/fmri_simulation_tutorial.ipynb\n",
    "\n",
    "---\n",
    "\n",
    "## Title + intro → MARKDOWN:\n",
    "\n",
    "\n",
    "# PySimPace: fMRI Simulation Tutorial\n",
    "\n",
    "This notebook demonstrates how to use PySimPace to simulate **motion artifacts** and **physiological artifacts** in functional MRI (4D volumes).\n",
    "\n",
    "We will show:\n",
    "\n",
    "✅ Simulating fMRI motion:\n",
    "- Inter-volume motion\n",
    "- Intra-volume motion (slice-wise)\n",
    "- Physiological noise\n",
    "\n",
    "✅ Visualizing motion effects  \n",
    "✅ Using MotionTrajectory API  \n",
    "\n",
    "---\n"
   ]
  },
  {
   "cell_type": "code",
   "execution_count": 1,
   "id": "de64306b-eae8-4aff-8e5f-664bd6cf9865",
   "metadata": {},
   "outputs": [],
   "source": [
    "import os\n",
    "from pysimpace.io import load_nifti, save_nifti\n",
    "from pysimpace.simulation.functional import simulate_fmri_motion\n",
    "from pysimpace.simulation.models import MotionTrajectory, generate_smooth_motion_trajectory\n",
    "import matplotlib.pyplot as plt\n",
    "import matplotlib.animation as animation"
   ]
  },
  {
   "cell_type": "code",
   "execution_count": null,
   "id": "050928b6-6315-48e2-b961-b8b7d84e1018",
   "metadata": {},
   "outputs": [],
   "source": [
    "# Path to a clean fMRI scan\n",
    "clean_path = os.path.join(\"examples\", \"clean\", \"sub-01_task-deterministicclassification_run-01_bold.nii.gz\")\n",
    "\n",
    "fmri_data, affine, header = load_nifti(clean_path)\n",
    "print(\"fMRI shape:\", fmri_data.shape)\n"
   ]
  },
  {
   "cell_type": "code",
   "execution_count": null,
   "id": "b92a5d09-afc6-4733-9286-b592bd6961ed",
   "metadata": {},
   "outputs": [],
   "source": [
    "#motion_trajectory\n",
    "n_vols = fmri_data.shape[-1]\n",
    "n_slices = fmri_data.shape[2]\n",
    "\n",
    "trajectory = MotionTrajectory(n_volumes=n_vols, n_slices=n_slices)\n",
    "\n",
    "volume_transforms = generate_smooth_motion_trajectory(\n",
    "    n_volumes=n_vols,\n",
    "    target_fd_mm=0.5,\n",
    "    vol_shape=fmri_data.shape[:3],\n",
    "    smoothing_sigma=3.0,\n",
    "    seed=42\n",
    ")\n",
    "\n",
    "for t in range(n_vols):\n",
    "    trajectory.set_volume_transform(t, volume_transforms[t])\n"
   ]
  },
  {
   "cell_type": "code",
   "execution_count": null,
   "id": "0b56378c-ab25-4e1e-a73e-4155b117af9b",
   "metadata": {},
   "outputs": [],
   "source": [
    "#simulation\n",
    "corrupted_fmri = simulate_fmri_motion(\n",
    "    fmri_data,\n",
    "    trajectory,\n",
    "    intra=True,\n",
    "    physio=True,\n",
    "    parallel=True,\n",
    "    seed=42\n",
    ")"
   ]
  }
 ],
 "metadata": {
  "kernelspec": {
   "display_name": "Python 3 (ipykernel)",
   "language": "python",
   "name": "python3"
  },
  "language_info": {
   "codemirror_mode": {
    "name": "ipython",
    "version": 3
   },
   "file_extension": ".py",
   "mimetype": "text/x-python",
   "name": "python",
   "nbconvert_exporter": "python",
   "pygments_lexer": "ipython3",
   "version": "3.12.7"
  }
 },
 "nbformat": 4,
 "nbformat_minor": 5
}
