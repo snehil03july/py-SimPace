"""
# Example: Applying Motion Artifacts to MRI Data

from py_simpace.mri_loader import load_nifti
from py_simpace.motion_simulation import apply_motion
import matplotlib.pyplot as plt

mri_data = load_nifti("sample.nii.gz")
motion_data = apply_motion(mri_data[:, :, 50], rotation=10, translation=(5, 5))

plt.imshow(motion_data, cmap='gray')
plt.title("Motion-Affected Slice")
plt.show()
"""