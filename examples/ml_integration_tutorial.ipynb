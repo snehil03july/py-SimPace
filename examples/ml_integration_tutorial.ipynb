{
 "cells": [
  {
   "cell_type": "markdown",
   "id": "d86caeff-9feb-4cd7-aa4b-4e245c10e2be",
   "metadata": {},
   "source": [
    "# PySimPace: Machine Learning Integration Tutorial\n",
    "\n",
    "This notebook demonstrates how to use PySimPace to:\n",
    "\n",
    "✅ Generate paired (clean, motion-corrupted) MRI data  \n",
    "✅ Prepare datasets for deep learning pipelines  \n",
    "✅ Load data with a standard PyTorch Dataset  \n",
    "✅ Visualize the output  \n",
    "\n",
    "---\n",
    "\n",
    "PySimPace supports both **structural MRI (3D)** and **fMRI (4D)** motion simulation.  \n",
    "In this tutorial, we will generate a dataset for structural MRI.\n",
    "\n",
    "---\n",
    "\n",
    "👉 The generated data is ideal for training models such as:\n",
    "- Motion correction U-Nets\n",
    "- Artifact detection classifiers\n",
    "- Segmentation models robust to motion\n",
    "\n",
    "---\n"
   ]
  },
  {
   "cell_type": "code",
   "execution_count": 2,
   "id": "4ded62e4-c08f-45c5-ab39-18595593424a",
   "metadata": {},
   "outputs": [],
   "source": [
    "# If using locally:\n",
    "# pip install -e .\n",
    "\n",
    "# If PySimPace is already installed:\n",
    "# pip install pysimpace"
   ]
  },
  {
   "cell_type": "code",
   "execution_count": 8,
   "id": "31c3360a-a6b0-4ebe-a8f9-fa878a95cfc1",
   "metadata": {},
   "outputs": [
    {
     "name": "stdout",
     "output_type": "stream",
     "text": [
      "Collecting py-simpace\n",
      "  Downloading py_simpace-2.0.0-py3-none-any.whl.metadata (8.6 kB)\n",
      "Requirement already satisfied: numpy>=1.21 in c:\\users\\sk895\\appdata\\local\\anaconda3\\lib\\site-packages (from py-simpace) (1.26.4)\n",
      "Requirement already satisfied: scipy>=1.7 in c:\\users\\sk895\\appdata\\local\\anaconda3\\lib\\site-packages (from py-simpace) (1.13.1)\n",
      "Requirement already satisfied: matplotlib>=3.5 in c:\\users\\sk895\\appdata\\local\\anaconda3\\lib\\site-packages (from py-simpace) (3.9.2)\n",
      "Requirement already satisfied: nibabel>=3.2 in c:\\users\\sk895\\appdata\\local\\anaconda3\\lib\\site-packages (from py-simpace) (5.3.2)\n",
      "Requirement already satisfied: torch>=1.10 in c:\\users\\sk895\\appdata\\local\\anaconda3\\lib\\site-packages (from py-simpace) (2.6.0)\n",
      "Requirement already satisfied: tqdm>=4.62 in c:\\users\\sk895\\appdata\\local\\anaconda3\\lib\\site-packages (from py-simpace) (4.66.5)\n",
      "Requirement already satisfied: scikit-image>=0.19 in c:\\users\\sk895\\appdata\\local\\anaconda3\\lib\\site-packages (from py-simpace) (0.24.0)\n",
      "Requirement already satisfied: contourpy>=1.0.1 in c:\\users\\sk895\\appdata\\local\\anaconda3\\lib\\site-packages (from matplotlib>=3.5->py-simpace) (1.2.0)\n",
      "Requirement already satisfied: cycler>=0.10 in c:\\users\\sk895\\appdata\\local\\anaconda3\\lib\\site-packages (from matplotlib>=3.5->py-simpace) (0.11.0)\n",
      "Requirement already satisfied: fonttools>=4.22.0 in c:\\users\\sk895\\appdata\\local\\anaconda3\\lib\\site-packages (from matplotlib>=3.5->py-simpace) (4.51.0)\n",
      "Requirement already satisfied: kiwisolver>=1.3.1 in c:\\users\\sk895\\appdata\\local\\anaconda3\\lib\\site-packages (from matplotlib>=3.5->py-simpace) (1.4.4)\n",
      "Requirement already satisfied: packaging>=20.0 in c:\\users\\sk895\\appdata\\local\\anaconda3\\lib\\site-packages (from matplotlib>=3.5->py-simpace) (24.1)\n",
      "Requirement already satisfied: pillow>=8 in c:\\users\\sk895\\appdata\\local\\anaconda3\\lib\\site-packages (from matplotlib>=3.5->py-simpace) (10.4.0)\n",
      "Requirement already satisfied: pyparsing>=2.3.1 in c:\\users\\sk895\\appdata\\local\\anaconda3\\lib\\site-packages (from matplotlib>=3.5->py-simpace) (3.1.2)\n",
      "Requirement already satisfied: python-dateutil>=2.7 in c:\\users\\sk895\\appdata\\local\\anaconda3\\lib\\site-packages (from matplotlib>=3.5->py-simpace) (2.9.0.post0)\n",
      "Requirement already satisfied: typing-extensions>=4.6 in c:\\users\\sk895\\appdata\\local\\anaconda3\\lib\\site-packages (from nibabel>=3.2->py-simpace) (4.11.0)\n",
      "Requirement already satisfied: networkx>=2.8 in c:\\users\\sk895\\appdata\\local\\anaconda3\\lib\\site-packages (from scikit-image>=0.19->py-simpace) (3.3)\n",
      "Requirement already satisfied: imageio>=2.33 in c:\\users\\sk895\\appdata\\local\\anaconda3\\lib\\site-packages (from scikit-image>=0.19->py-simpace) (2.33.1)\n",
      "Requirement already satisfied: tifffile>=2022.8.12 in c:\\users\\sk895\\appdata\\local\\anaconda3\\lib\\site-packages (from scikit-image>=0.19->py-simpace) (2023.4.12)\n",
      "Requirement already satisfied: lazy-loader>=0.4 in c:\\users\\sk895\\appdata\\local\\anaconda3\\lib\\site-packages (from scikit-image>=0.19->py-simpace) (0.4)\n",
      "Requirement already satisfied: filelock in c:\\users\\sk895\\appdata\\local\\anaconda3\\lib\\site-packages (from torch>=1.10->py-simpace) (3.13.1)\n",
      "Requirement already satisfied: jinja2 in c:\\users\\sk895\\appdata\\local\\anaconda3\\lib\\site-packages (from torch>=1.10->py-simpace) (3.1.4)\n",
      "Requirement already satisfied: fsspec in c:\\users\\sk895\\appdata\\local\\anaconda3\\lib\\site-packages (from torch>=1.10->py-simpace) (2024.6.1)\n",
      "Requirement already satisfied: setuptools in c:\\users\\sk895\\appdata\\local\\anaconda3\\lib\\site-packages (from torch>=1.10->py-simpace) (75.1.0)\n",
      "Requirement already satisfied: sympy==1.13.1 in c:\\users\\sk895\\appdata\\local\\anaconda3\\lib\\site-packages (from torch>=1.10->py-simpace) (1.13.1)\n",
      "Requirement already satisfied: mpmath<1.4,>=1.1.0 in c:\\users\\sk895\\appdata\\local\\anaconda3\\lib\\site-packages (from sympy==1.13.1->torch>=1.10->py-simpace) (1.3.0)\n",
      "Requirement already satisfied: colorama in c:\\users\\sk895\\appdata\\local\\anaconda3\\lib\\site-packages (from tqdm>=4.62->py-simpace) (0.4.6)\n",
      "Requirement already satisfied: six>=1.5 in c:\\users\\sk895\\appdata\\local\\anaconda3\\lib\\site-packages (from python-dateutil>=2.7->matplotlib>=3.5->py-simpace) (1.16.0)\n",
      "Requirement already satisfied: MarkupSafe>=2.0 in c:\\users\\sk895\\appdata\\local\\anaconda3\\lib\\site-packages (from jinja2->torch>=1.10->py-simpace) (2.1.3)\n",
      "Downloading py_simpace-2.0.0-py3-none-any.whl (18 kB)\n",
      "Installing collected packages: py-simpace\n",
      "Successfully installed py-simpace-2.0.0\n"
     ]
    }
   ],
   "source": [
    "! pip install py-simpace"
   ]
  },
  {
   "cell_type": "code",
   "execution_count": 14,
   "id": "031d76d0-eec4-4100-b33c-688b6496a00a",
   "metadata": {},
   "outputs": [
    {
     "name": "stdout",
     "output_type": "stream",
     "text": [
      "Clean data folder: clean\n",
      "Output folder: errored\n"
     ]
    }
   ],
   "source": [
    "import os\n",
    "from pysimpace.ml import generate_training_pairs, MRIPairedDataset\n",
    "\n",
    "# Paths (adjust these as needed)\n",
    "clean_dir = os.path.join(\"clean\")\n",
    "output_dir = os.path.join(\"errored\")\n",
    "\n",
    "print(\"Clean data folder:\", clean_dir)\n",
    "print(\"Output folder:\", output_dir)"
   ]
  },
  {
   "cell_type": "code",
   "execution_count": 15,
   "id": "e49d3a82-7141-484d-a9be-2c3b3c4526d7",
   "metadata": {},
   "outputs": [
    {
     "name": "stderr",
     "output_type": "stream",
     "text": [
      "Generating pairs:   0%|                                                                                       | 0/5 [00:00<?, ?it/s]\n"
     ]
    },
    {
     "ename": "TypeError",
     "evalue": "simulate_structural_motion() got an unexpected keyword argument 'apply_spike_noise'",
     "output_type": "error",
     "traceback": [
      "\u001b[1;31m---------------------------------------------------------------------------\u001b[0m",
      "\u001b[1;31mTypeError\u001b[0m                                 Traceback (most recent call last)",
      "Cell \u001b[1;32mIn[15], line 1\u001b[0m\n\u001b[1;32m----> 1\u001b[0m generate_training_pairs(\n\u001b[0;32m      2\u001b[0m     clean_dir\u001b[38;5;241m=\u001b[39mclean_dir,\n\u001b[0;32m      3\u001b[0m     output_dir\u001b[38;5;241m=\u001b[39moutput_dir,\n\u001b[0;32m      4\u001b[0m     n_samples\u001b[38;5;241m=\u001b[39m\u001b[38;5;241m5\u001b[39m,  \u001b[38;5;66;03m# start small for test\u001b[39;00m\n\u001b[0;32m      5\u001b[0m     artifact_configs\u001b[38;5;241m=\u001b[39m\u001b[38;5;28;01mNone\u001b[39;00m,   \u001b[38;5;66;03m# use default\u001b[39;00m\n\u001b[0;32m      6\u001b[0m     structural\u001b[38;5;241m=\u001b[39m\u001b[38;5;28;01mTrue\u001b[39;00m,\n\u001b[0;32m      7\u001b[0m     use_blended\u001b[38;5;241m=\u001b[39m\u001b[38;5;28;01mTrue\u001b[39;00m,\n\u001b[0;32m      8\u001b[0m     save_format\u001b[38;5;241m=\u001b[39m\u001b[38;5;124m'\u001b[39m\u001b[38;5;124mnifti\u001b[39m\u001b[38;5;124m'\u001b[39m,\n\u001b[0;32m      9\u001b[0m     seed\u001b[38;5;241m=\u001b[39m\u001b[38;5;241m42\u001b[39m\n\u001b[0;32m     10\u001b[0m )\n",
      "File \u001b[1;32m~\\AppData\\Local\\anaconda3\\Lib\\site-packages\\pysimpace\\ml.py:107\u001b[0m, in \u001b[0;36mgenerate_training_pairs\u001b[1;34m(clean_dir, output_dir, n_samples, artifact_configs, structural, use_blended, save_format, seed)\u001b[0m\n\u001b[0;32m    105\u001b[0m \u001b[38;5;28;01mif\u001b[39;00m structural:\n\u001b[0;32m    106\u001b[0m     transforms \u001b[38;5;241m=\u001b[39m \u001b[38;5;28;01mNone\u001b[39;00m  \u001b[38;5;66;03m# use default random transforms\u001b[39;00m\n\u001b[1;32m--> 107\u001b[0m     corrupted_data \u001b[38;5;241m=\u001b[39m simulate_structural_motion(\n\u001b[0;32m    108\u001b[0m         clean_data,\n\u001b[0;32m    109\u001b[0m         transforms\u001b[38;5;241m=\u001b[39mtransforms,\n\u001b[0;32m    110\u001b[0m         use_blended\u001b[38;5;241m=\u001b[39muse_blended,\n\u001b[0;32m    111\u001b[0m         num_segments\u001b[38;5;241m=\u001b[39m\u001b[38;5;241m8\u001b[39m,\n\u001b[0;32m    112\u001b[0m         ghosting\u001b[38;5;241m=\u001b[39martifact_config\u001b[38;5;241m.\u001b[39mget(\u001b[38;5;124m'\u001b[39m\u001b[38;5;124mghosting\u001b[39m\u001b[38;5;124m'\u001b[39m, \u001b[38;5;28;01mFalse\u001b[39;00m),\n\u001b[0;32m    113\u001b[0m         apply_gibbs\u001b[38;5;241m=\u001b[39martifact_config\u001b[38;5;241m.\u001b[39mget(\u001b[38;5;124m'\u001b[39m\u001b[38;5;124mapply_gibbs\u001b[39m\u001b[38;5;124m'\u001b[39m, \u001b[38;5;28;01mFalse\u001b[39;00m),\n\u001b[0;32m    114\u001b[0m         gibbs_strength\u001b[38;5;241m=\u001b[39m\u001b[38;5;241m0.05\u001b[39m,\n\u001b[0;32m    115\u001b[0m         apply_spike_noise\u001b[38;5;241m=\u001b[39martifact_config\u001b[38;5;241m.\u001b[39mget(\u001b[38;5;124m'\u001b[39m\u001b[38;5;124mapply_spike_noise\u001b[39m\u001b[38;5;124m'\u001b[39m, \u001b[38;5;28;01mFalse\u001b[39;00m),\n\u001b[0;32m    116\u001b[0m         n_spikes\u001b[38;5;241m=\u001b[39m\u001b[38;5;241m10\u001b[39m,\n\u001b[0;32m    117\u001b[0m         spike_intensity\u001b[38;5;241m=\u001b[39m\u001b[38;5;241m10.0\u001b[39m,\n\u001b[0;32m    118\u001b[0m         apply_intensity_drift\u001b[38;5;241m=\u001b[39martifact_config\u001b[38;5;241m.\u001b[39mget(\u001b[38;5;124m'\u001b[39m\u001b[38;5;124mapply_intensity_drift\u001b[39m\u001b[38;5;124m'\u001b[39m, \u001b[38;5;28;01mFalse\u001b[39;00m),\n\u001b[0;32m    119\u001b[0m         drift_factor\u001b[38;5;241m=\u001b[39m\u001b[38;5;241m0.05\u001b[39m,\n\u001b[0;32m    120\u001b[0m         seed\u001b[38;5;241m=\u001b[39mseed \u001b[38;5;241m+\u001b[39m i\n\u001b[0;32m    121\u001b[0m     )\n\u001b[0;32m    122\u001b[0m \u001b[38;5;28;01melse\u001b[39;00m:\n\u001b[0;32m    123\u001b[0m     \u001b[38;5;28;01mfrom\u001b[39;00m \u001b[38;5;21;01mpysimpace\u001b[39;00m\u001b[38;5;21;01m.\u001b[39;00m\u001b[38;5;21;01msimulation\u001b[39;00m\u001b[38;5;21;01m.\u001b[39;00m\u001b[38;5;21;01mmodels\u001b[39;00m \u001b[38;5;28;01mimport\u001b[39;00m MotionTrajectory, generate_smooth_motion_trajectory\n",
      "\u001b[1;31mTypeError\u001b[0m: simulate_structural_motion() got an unexpected keyword argument 'apply_spike_noise'"
     ]
    }
   ],
   "source": [
    "generate_training_pairs(\n",
    "    clean_dir=clean_dir,\n",
    "    output_dir=output_dir,\n",
    "    n_samples=5,  # start small for test\n",
    "    artifact_configs=None,   # use default\n",
    "    structural=True,\n",
    "    use_blended=True,\n",
    "    save_format='nifti',\n",
    "    seed=42\n",
    ")"
   ]
  },
  {
   "cell_type": "code",
   "execution_count": null,
   "id": "e510157b-3d1d-44db-9d2a-4b480efa1bfa",
   "metadata": {},
   "outputs": [],
   "source": []
  }
 ],
 "metadata": {
  "kernelspec": {
   "display_name": "Python 3 (ipykernel)",
   "language": "python",
   "name": "python3"
  },
  "language_info": {
   "codemirror_mode": {
    "name": "ipython",
    "version": 3
   },
   "file_extension": ".py",
   "mimetype": "text/x-python",
   "name": "python",
   "nbconvert_exporter": "python",
   "pygments_lexer": "ipython3",
   "version": "3.12.7"
  }
 },
 "nbformat": 4,
 "nbformat_minor": 5
}
